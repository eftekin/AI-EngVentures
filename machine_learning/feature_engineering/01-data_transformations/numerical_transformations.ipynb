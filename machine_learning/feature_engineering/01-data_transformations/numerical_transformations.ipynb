{
 "cells": [
  {
   "cell_type": "markdown",
   "metadata": {},
   "source": [
    "# Numerical Transformation\n",
    "\n",
    "Preparing data for machine learning often requires numerical transformation. This process adjusts the scale or distribution of numerical data, helping models like logistic regression and neural networks better compare features and improve accuracy."
   ]
  },
  {
   "cell_type": "code",
   "execution_count": 40,
   "metadata": {},
   "outputs": [
    {
     "name": "stdout",
     "output_type": "stream",
     "text": [
      "Index(['spent', 'nearest_starbucks', 'age', 'rate_quality', 'rate_price',\n",
      "       'rate_promo', 'ambiance', 'wifi', 'service', 'meetings_hangout'],\n",
      "      dtype='object')\n"
     ]
    },
    {
     "data": {
      "text/plain": [
       "<bound method DataFrame.info of      spent  nearest_starbucks  age  rate_quality  rate_price  rate_promo  \\\n",
       "0       13                  8   52             4           4           4   \n",
       "1       25                  8   35             4           5           5   \n",
       "2       10                  8   29             2           1           5   \n",
       "3        7                  8   28             4           1           4   \n",
       "4       10                  8   28             4           2           4   \n",
       "..     ...                ...  ...           ...         ...         ...   \n",
       "117      5                  0   22             3           4           5   \n",
       "118     16                  0   22             4           3           5   \n",
       "119      2                  0   20             4           3           5   \n",
       "120     19                  0   20             4           4           4   \n",
       "121      3                  0   14             3           3           3   \n",
       "\n",
       "     ambiance  wifi  service  meetings_hangout  \n",
       "0           4     4        4                 4  \n",
       "1           4     4        3                 3  \n",
       "2           2     2        2                 2  \n",
       "3           5     3        3                 4  \n",
       "4           4     3        4                 3  \n",
       "..        ...   ...      ...               ...  \n",
       "117         4     3        4                 2  \n",
       "118         4     4        5                 5  \n",
       "119         5     4        4                 3  \n",
       "120         4     4        4                 4  \n",
       "121         3     3        3                 3  \n",
       "\n",
       "[122 rows x 10 columns]>"
      ]
     },
     "execution_count": 40,
     "metadata": {},
     "output_type": "execute_result"
    }
   ],
   "source": [
    "import pandas as pd\n",
    "\n",
    "coffee = pd.read_csv(\"../../assets/csv/starbucks_customers.csv\")\n",
    "print(coffee.columns)\n",
    "coffee.info"
   ]
  },
  {
   "cell_type": "markdown",
   "metadata": {},
   "source": [
    "## Centering Your Data\n",
    "\n",
    "Centering data means subtracting the mean from each data point, making the new mean 0. This helps visualize how far each data point is from the mean.\n"
   ]
  },
  {
   "cell_type": "code",
   "execution_count": 41,
   "metadata": {},
   "outputs": [
    {
     "name": "stdout",
     "output_type": "stream",
     "text": [
      "Minimum age: 13\n",
      "Maximum age: 70\n",
      "Range of ages: 57\n",
      "Mean of ages: 27.33606557377049\n",
      "Centered ages: 0      24.663934\n",
      "1       7.663934\n",
      "2       1.663934\n",
      "3       0.663934\n",
      "4       0.663934\n",
      "         ...    \n",
      "117    -5.336066\n",
      "118    -5.336066\n",
      "119    -7.336066\n",
      "120    -7.336066\n",
      "121   -13.336066\n",
      "Name: age, Length: 122, dtype: float64\n"
     ]
    },
    {
     "data": {
      "image/png": "[encoded data removed]",
      "text/plain": [
       "<Figure size 640x480 with 1 Axes>"
      ]
     },
     "metadata": {},
     "output_type": "display_data"
    }
   ],
   "source": [
    "import numpy as np\n",
    "import matplotlib.pyplot as plt \n",
    "\n",
    "# create ages variable\n",
    "ages = coffee['age']\n",
    "\n",
    "# get min and print\n",
    "min_age = np.min(ages)\n",
    "print(\"Minimum age:\", min_age)\n",
    "\n",
    "# get max and print\n",
    "max_age = np.max(ages)\n",
    "print(\"Maximum age:\", max_age)\n",
    "\n",
    "# print the range\n",
    "print(\"Range of ages:\", max_age - min_age)\n",
    "\n",
    "# find the mean\n",
    "mean_age = np.mean(ages)\n",
    "print(\"Mean of ages:\", mean_age)\n",
    "\n",
    "# center ages\n",
    "centered_ages = ages - mean_age\n",
    "print(\"Centered ages:\", centered_ages)\n",
    "\n",
    "# graph it\n",
    "plt.hist(centered_ages)\n",
    "plt.show()"
   ]
  },
  {
   "cell_type": "markdown",
   "metadata": {},
   "source": [
    "## Standardizing Our Data\n",
    "\n",
    "Standardization, or Z-Score normalization, involves centering data and then dividing by the standard deviation, resulting in a mean of zero and a standard deviation of one. This ensures all features are on the same scale, which is crucial for models that treat features equally, such as PCA, clustering algorithms, KNN, and regularization methods like LASSO and Ridge.\n",
    "\n",
    "$$\n",
    "\\displaystyle z = \\frac{value - mean}{stdev}\n",
    "$$\n"
   ]
  },
  {
   "cell_type": "code",
   "execution_count": 42,
   "metadata": {},
   "outputs": [
    {
     "name": "stdout",
     "output_type": "stream",
     "text": [
      "1.7290358580227847e-16\n",
      "0.9999999999999999\n"
     ]
    }
   ],
   "source": [
    "std_dev_age = np.std(ages)\n",
    "\n",
    "# standardize ages\n",
    "ages_standardized = (ages - mean_age) / std_dev_age\n",
    "\n",
    "# print the results\n",
    "print(np.mean(ages_standardized))\n",
    "print(np.std(ages_standardized))"
   ]
  },
  {
   "cell_type": "markdown",
   "metadata": {},
   "source": [
    "### Standardizing Our Data with Sklearn\n",
    "\n",
    "Now that we know the theory behind standardization, we can use `StandardScaler` from sklearn to automate this process. First, we reshape our data into one column using `.reshape(-1,1)` before applying the scaler. This ensures our data has a mean of 0 and a standard deviation of 1, just like in the manual method.\n"
   ]
  },
  {
   "cell_type": "code",
   "execution_count": 43,
   "metadata": {},
   "outputs": [
    {
     "name": "stdout",
     "output_type": "stream",
     "text": [
      "1.7290358580227847e-16\n",
      "0.9999999999999999\n"
     ]
    }
   ],
   "source": [
    "from sklearn.preprocessing import StandardScaler\n",
    "scaler = StandardScaler()\n",
    "\n",
    "# reshape\n",
    "ages_reshaped = np.array(ages).reshape(-1,1)\n",
    "\n",
    "# fit_transform\n",
    "ages_scaled = scaler.fit_transform(ages_reshaped)\n",
    "\n",
    "## print mean and std\n",
    "print(np.mean(ages_scaled))\n",
    "print(np.std(ages_scaled))"
   ]
  },
  {
   "cell_type": "markdown",
   "metadata": {},
   "source": [
    "## Min-Max Normalization\n",
    "Min-max normalization scales data by setting the minimum value to 0 and the maximum to 1, with all other values transformed to fall between 0 and 1. This method works well when the data range isn’t too large, but it's not ideal for datasets with extreme outliers. It ensures that all features are on the same scale, just like standardization.\n",
    "\n",
    "$$\n",
    "\\displaystyle X_{norm} = \\frac{X - X_{min}}{X_{max} - X_{min}}\n",
    "$$"
   ]
  },
  {
   "cell_type": "code",
   "execution_count": 44,
   "metadata": {},
   "outputs": [
    {
     "name": "stdout",
     "output_type": "stream",
     "text": [
      "Spent range: 28\n",
      "Spent normalized: 0      0.464286\n",
      "1      0.892857\n",
      "2      0.357143\n",
      "3      0.250000\n",
      "4      0.357143\n",
      "         ...   \n",
      "117    0.178571\n",
      "118    0.571429\n",
      "119    0.071429\n",
      "120    0.678571\n",
      "121    0.107143\n",
      "Name: spent, Length: 122, dtype: float64\n"
     ]
    }
   ],
   "source": [
    "## get spent feature\n",
    "spent = coffee[\"spent\"]\n",
    "\n",
    "#find the max spent\n",
    "max_spent = np.max(spent)\n",
    "\n",
    "#find the min spent\n",
    "min_spent = np.min(spent)\n",
    "\n",
    "#find the difference\n",
    "spent_range = max_spent - min_spent\n",
    "print(\"Spent range:\", spent_range)\n",
    "\n",
    "#normalize your spent feature\n",
    "spent_normalized = (spent - min_spent) / (max_spent - min_spent)\n",
    "print(\"Spent normalized:\", spent_normalized)"
   ]
  },
  {
   "cell_type": "markdown",
   "metadata": {},
   "source": [
    "### Min-Max Normalization with Sklearn\n",
    "\n",
    "To implement min-max normalization using `MinMaxScaler` from sklearn, we reshape the data into one column and apply the scaler. This will transform all values to a range between 0 and 1, just as we did manually earlier."
   ]
  },
  {
   "cell_type": "code",
   "execution_count": 45,
   "metadata": {},
   "outputs": [
    {
     "name": "stdout",
     "output_type": "stream",
     "text": [
      "0.0\n",
      "1.0\n"
     ]
    }
   ],
   "source": [
    "from sklearn.preprocessing import MinMaxScaler\n",
    "mmscaler = MinMaxScaler()\n",
    "\n",
    "#reshape our array to prepare it for the mmscaler\n",
    "spent_reshaped = np.array(spent).reshape(-1,1)\n",
    "\n",
    "#.fit_transform our reshaped data\n",
    "reshaped_scaled = mmscaler.fit_transform(spent_reshaped)\n",
    "\n",
    "# print min and max\n",
    "print(np.min(reshaped_scaled))\n",
    "print(np.max(reshaped_scaled))\n",
    "\n"
   ]
  },
  {
   "cell_type": "markdown",
   "metadata": {},
   "source": [
    "## Binning Our Data\n",
    "\n",
    "Binning is the process of grouping data into categories or ranges. It helps capture patterns in noisy data by balancing the size of bins to avoid losing important details. For example, we can bin the \"ages of Starbucks customeres\" feature into specific ranges to observe patterns. Using `pd.cut()`, we create bins and visualize the distribution to gain insights."
   ]
  },
  {
   "cell_type": "code",
   "execution_count": 46,
   "metadata": {},
   "outputs": [
    {
     "name": "stdout",
     "output_type": "stream",
     "text": [
      "13\n",
      "70\n",
      "0    [40, 71)\n",
      "1    [30, 40)\n",
      "2    [20, 30)\n",
      "3    [20, 30)\n",
      "4    [20, 30)\n",
      "5    [20, 30)\n",
      "6    [20, 30)\n",
      "7    [20, 30)\n",
      "8    [20, 30)\n",
      "9    [20, 30)\n",
      "Name: binned_ages, dtype: category\n",
      "Categories (4, interval[int64, left]): [[12, 20) < [20, 30) < [30, 40) < [40, 71)]\n"
     ]
    },
    {
     "data": {
      "image/png": "[encoded data removed]",
      "text/plain": [
       "<Figure size 640x480 with 1 Axes>"
      ]
     },
     "metadata": {},
     "output_type": "display_data"
    }
   ],
   "source": [
    "print(np.min(ages))\n",
    "print(np.max(ages))\n",
    "\n",
    "## set bins\n",
    "age_bins = [12, 20, 30, 40, 71]\n",
    "\n",
    "## new column\n",
    "coffee['binned_ages'] = pd.cut(ages, age_bins, right = False)\n",
    "\n",
    "## print first 10 rows\n",
    "print(coffee['binned_ages'].head(10))\n",
    "\n",
    "## graph it\n",
    "coffee['binned_ages'].value_counts().plot(kind='bar')\n",
    "plt.show()"
   ]
  },
  {
   "cell_type": "markdown",
   "metadata": {},
   "source": [
    "## Natural Log Transformation\n",
    "\n",
    "Log transformations are useful for right-skewed data and large outliers, helping the data resemble a normal distribution and reducing the range of values. This transformation is effective for improving model performance by compressing large differences in values. However, avoid using it on negative or left-skewed data, as it's not suitable for those cases."
   ]
  },
  {
   "cell_type": "code",
   "execution_count": 47,
   "metadata": {},
   "outputs": [
    {
     "data": {
      "image/png": "[encoded data removed]",
      "text/plain": [
       "<Figure size 640x480 with 1 Axes>"
      ]
     },
     "metadata": {},
     "output_type": "display_data"
    },
    {
     "data": {
      "image/png": "[encoded data removed]",
      "text/plain": [
       "<Figure size 640x480 with 1 Axes>"
      ]
     },
     "metadata": {},
     "output_type": "display_data"
    }
   ],
   "source": [
    "## read in csv file\n",
    "cars = pd.read_csv('../../assets/csv/cars.csv')\n",
    "\n",
    "## set you price variable\n",
    "prices = cars['sellingprice']\n",
    "\n",
    "## plot a histogram of prices\n",
    "plt.hist(prices, bins = 150)\n",
    "plt.show();\n",
    "\n",
    "## log transform prices\n",
    "log_prices = np.log(prices)\n",
    "\n",
    "## plot a histogram of log_prices\n",
    "plt.hist(log_prices, bins = 150)\n",
    "plt.show();"
   ]
  }
 ],
 "metadata": {
  "kernelspec": {
   "display_name": "Python 3",
   "language": "python",
   "name": "python3"
  },
  "language_info": {
   "codemirror_mode": {
    "name": "ipython",
    "version": 3
   },
   "file_extension": ".py",
   "mimetype": "text/x-python",
   "name": "python",
   "nbconvert_exporter": "python",
   "pygments_lexer": "ipython3",
   "version": "3.12.2"
  }
 },
 "nbformat": 4,
 "nbformat_minor": 2
}

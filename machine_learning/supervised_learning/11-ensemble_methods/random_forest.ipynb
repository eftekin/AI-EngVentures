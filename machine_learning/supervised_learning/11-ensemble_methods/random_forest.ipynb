{
 "cells": [
  {
   "cell_type": "markdown",
   "metadata": {},
   "source": [
    "# Random Forest Analysis on Car Dataset\n",
    "In this notebook, we will analyze the Car Evaluation dataset using various models, including Decision Trees and Random Forests. We will also explore bootstrapping techniques and evaluate model performance using accuracy, precision, and recall metrics."
   ]
  },
  {
   "cell_type": "code",
   "execution_count": 1,
   "metadata": {},
   "outputs": [],
   "source": [
    "import matplotlib.pyplot as plt\n",
    "import numpy as np\n",
    "import pandas as pd\n",
    "import seaborn as sns\n",
    "from sklearn.ensemble import RandomForestClassifier\n",
    "from sklearn.model_selection import train_test_split\n",
    "from sklearn.tree import DecisionTreeClassifier\n",
    "\n",
    "# Load the dataset\n",
    "df = pd.read_csv(\n",
    "    \"https://archive.ics.uci.edu/ml/machine-learning-databases/car/car.data\",\n",
    "    names=[\"buying\", \"maint\", \"doors\", \"persons\", \"lug_boot\", \"safety\", \"accep\"],\n",
    ")\n",
    "df[\"accep\"] = ~(df[\"accep\"] == \"unacc\")  # 1 is acceptable, 0 if not acceptable\n",
    "X = pd.get_dummies(df.iloc[:, 0:6], drop_first=True)\n",
    "y = df[\"accep\"]\n",
    "x_train, x_test, y_train, y_test = train_test_split(\n",
    "    X, y, random_state=0, test_size=0.25\n",
    ")"
   ]
  },
  {
   "cell_type": "markdown",
   "metadata": {},
   "source": [
    "### Print Number of Rows and Distribution of Safety Ratings\n",
    "We will first check the number of rows in the dataset and the distribution of safety ratings."
   ]
  },
  {
   "cell_type": "code",
   "execution_count": 2,
   "metadata": {},
   "outputs": [
    {
     "name": "stdout",
     "output_type": "stream",
     "text": [
      "1728\n",
      "Distribution of safety ratings in 1728 of data:\n",
      "safety\n",
      "low     0.333333\n",
      "med     0.333333\n",
      "high    0.333333\n",
      "Name: proportion, dtype: float64\n"
     ]
    }
   ],
   "source": [
    "nrows = df.shape[0]\n",
    "print(nrows)\n",
    "print(f\"Distribution of safety ratings in {nrows} of data:\")\n",
    "print(df.safety.value_counts(normalize=True))"
   ]
  },
  {
   "cell_type": "markdown",
   "metadata": {},
   "source": [
    "### Create Bootstrapped Sample\n",
    "Next, we will create a bootstrapped sample of the data and examine the distribution of safety ratings."
   ]
  },
  {
   "cell_type": "code",
   "execution_count": 3,
   "metadata": {},
   "outputs": [
    {
     "name": "stdout",
     "output_type": "stream",
     "text": [
      "Distribution of safety ratings in bootstrapped sample data:\n",
      "safety\n",
      "high    0.337963\n",
      "low     0.333333\n",
      "med     0.328704\n",
      "Name: proportion, dtype: float64\n"
     ]
    }
   ],
   "source": [
    "boot_sample = df.sample(nrows, replace=True)\n",
    "print(f\"Distribution of safety ratings in bootstrapped sample data:\")\n",
    "print(boot_sample.safety.value_counts(normalize=True))"
   ]
  },
  {
   "cell_type": "markdown",
   "metadata": {},
   "source": [
    "### Create 1000 Bootstrapped Samples\n",
    "We will generate 1000 bootstrapped samples and calculate the percentage of low safety ratings."
   ]
  },
  {
   "cell_type": "code",
   "execution_count": 4,
   "metadata": {},
   "outputs": [],
   "source": [
    "low_perc = []\n",
    "for i in range(1000):\n",
    "    boot_sample = df.sample(nrows, replace=True)\n",
    "    low_perc.append(boot_sample.safety.value_counts(normalize=True)[\"low\"])"
   ]
  },
  {
   "cell_type": "markdown",
   "metadata": {},
   "source": [
    "### Plot a Histogram of Low Percentage Values\n",
    "Next, we will plot a histogram to visualize the distribution of low safety percentage values."
   ]
  },
  {
   "cell_type": "code",
   "execution_count": 5,
   "metadata": {},
   "outputs": [
    {
     "name": "stdout",
     "output_type": "stream",
     "text": [
      "0.33305381944444445\n"
     ]
    },
    {
     "data": {
      "image/png": "[encoded data removed]",
      "text/plain": [
       "<Figure size 640x480 with 1 Axes>"
      ]
     },
     "metadata": {},
     "output_type": "display_data"
    }
   ],
   "source": [
    "mean_lp = np.mean(low_perc)\n",
    "print(mean_lp)\n",
    "plt.hist(low_perc, bins=20)\n",
    "plt.xlabel(\"Low Percentage\")\n",
    "plt.title(\"Histogram of Low Percentage Values\")\n",
    "plt.show()"
   ]
  },
  {
   "cell_type": "markdown",
   "metadata": {},
   "source": [
    "### Calculate 2.5 and 97.5 Percentiles\n",
    "Finally, we will calculate the 95% confidence interval for the low safety percentage."
   ]
  },
  {
   "cell_type": "code",
   "execution_count": 6,
   "metadata": {},
   "outputs": [
    {
     "name": "stdout",
     "output_type": "stream",
     "text": [
      "Average low percentage: 0.3331\n",
      "95% Confidence Interval for low percentage: (0.3108,0.3547)\n"
     ]
    }
   ],
   "source": [
    "low_perc.sort()\n",
    "print(f\"Average low percentage: {np.mean(low_perc).round(4)}\")\n",
    "print(\n",
    "    f\"95% Confidence Interval for low percentage: ({low_perc[25].round(4)},{low_perc[975].round(4)})\"\n",
    ")"
   ]
  },
  {
   "cell_type": "markdown",
   "metadata": {},
   "source": [
    "### Decision Trees\n",
    "We will now train and evaluate a Decision Tree Classifier on the dataset."
   ]
  },
  {
   "cell_type": "code",
   "execution_count": 7,
   "metadata": {},
   "outputs": [
    {
     "name": "stdout",
     "output_type": "stream",
     "text": [
      "Accuracy score of DT on test set (trained using full set): 0.8588\n"
     ]
    }
   ],
   "source": [
    "dt = DecisionTreeClassifier(max_depth=5)\n",
    "dt.fit(x_train, y_train)\n",
    "print(\n",
    "    f\"Accuracy score of DT on test set (trained using full set): {round(dt.score(x_test, y_test), 4)}\"\n",
    ")"
   ]
  },
  {
   "cell_type": "markdown",
   "metadata": {},
   "source": [
    "### Bootstrapping Decision Trees\n",
    "We will train a Decision Tree on a bootstrapped sample and evaluate its performance."
   ]
  },
  {
   "cell_type": "code",
   "execution_count": 8,
   "metadata": {},
   "outputs": [
    {
     "name": "stdout",
     "output_type": "stream",
     "text": [
      "Accuracy score of DT on test set (trained using bootstrapped sample): 0.8912\n"
     ]
    }
   ],
   "source": [
    "dt2 = DecisionTreeClassifier(max_depth=5)\n",
    "# ids are the indices of the bootstrapped sample\n",
    "ids = x_train.sample(x_train.shape[0], replace=True, random_state=0).index\n",
    "dt2.fit(x_train.loc[ids], y_train.loc[ids])\n",
    "print(\n",
    "    f\"Accuracy score of DT on test set (trained using bootstrapped sample): {round(dt2.score(x_test, y_test), 4)}\"\n",
    ")"
   ]
  },
  {
   "cell_type": "markdown",
   "metadata": {},
   "source": [
    "### Random Forest\n",
    "Now we will train a Random Forest model on the dataset and evaluate its performance."
   ]
  },
  {
   "cell_type": "code",
   "execution_count": 9,
   "metadata": {},
   "outputs": [
    {
     "name": "stdout",
     "output_type": "stream",
     "text": [
      "Accuracy score of RF on test set: 0.8981\n"
     ]
    }
   ],
   "source": [
    "rf = RandomForestClassifier(max_depth=5)\n",
    "rf.fit(x_train, y_train)\n",
    "print(\n",
    "    f\"Accuracy score of RF on test set: {round(rf.score(x_test, y_test), 4)}\"\n",
    ")"
   ]
  }
 ],
 "metadata": {
  "kernelspec": {
   "display_name": "Python 3",
   "language": "python",
   "name": "python3"
  },
  "language_info": {
   "codemirror_mode": {
    "name": "ipython",
    "version": 3
   },
   "file_extension": ".py",
   "mimetype": "text/x-python",
   "name": "python",
   "nbconvert_exporter": "python",
   "pygments_lexer": "ipython3",
   "version": "3.12.2"
  }
 },
 "nbformat": 4,
 "nbformat_minor": 4
}

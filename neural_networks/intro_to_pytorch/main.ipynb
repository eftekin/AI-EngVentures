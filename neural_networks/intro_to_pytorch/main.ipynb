{
 "cells": [
  {
   "cell_type": "markdown",
   "metadata": {},
   "source": [
    "### Intro to Tensors\n",
    "\n",
    "Tensors are the fundamental building blocks of neural networks in PyTorch. Similar to NumPy arrays, tensors act as storage containers for numerical data.\n"
   ]
  },
  {
   "cell_type": "code",
   "execution_count": 2,
   "metadata": {},
   "outputs": [],
   "source": [
    "import pandas as pd\n",
    "import numpy as np\n",
    "import torch\n",
    "import torch.nn as nn"
   ]
  },
  {
   "cell_type": "code",
   "execution_count": 3,
   "metadata": {},
   "outputs": [],
   "source": [
    "# create a numpy array with the rent in US dollars, size in square feet, and age in years\n",
    "apt_array = np.array([2550, 750, 3.5])\n",
    "# convert to a tensor of floats\n",
    "apt_tensor = torch.tensor(\n",
    "    apt_array, \n",
    "    dtype=torch.float)\n"
   ]
  },
  {
   "cell_type": "code",
   "execution_count": 4,
   "metadata": {},
   "outputs": [
    {
     "data": {
      "text/plain": [
       "tensor([[2.5500e+03, 4.8000e+02, 1.7000e+01],\n",
       "        [1.1500e+04, 2.0000e+03, 9.6000e+01],\n",
       "        [3.0000e+03, 1.0000e+03, 1.0600e+02],\n",
       "        ...,\n",
       "        [1.6990e+03, 2.5000e+02, 9.6000e+01],\n",
       "        [3.4750e+03, 6.5100e+02, 1.4000e+01],\n",
       "        [4.5000e+03, 8.1600e+02, 9.0000e+00]])"
      ]
     },
     "execution_count": 4,
     "metadata": {},
     "output_type": "execute_result"
    }
   ],
   "source": [
    "# create a pandas dataframe with the rent in US dollars, size in square feet, and age in years\n",
    "df = pd.read_csv(\"../../assets/csv/streeteasy.csv\")\n",
    "df = df[[\"rent\", \"size_sqft\", \"building_age_yrs\"]]\n",
    "\n",
    "# convert to a tensor of floats\n",
    "df_tensor = torch.tensor(df.values, dtype=torch.float32)   \n",
    "\n",
    "# print the tensors\n",
    "df_tensor"
   ]
  },
  {
   "cell_type": "markdown",
   "metadata": {},
   "source": [
    "#### Linear Regression with Perceptrons\n",
    "\n",
    "A Perceptron is a type of network structure consisting of **nodes** connected to each other by **edges**. The nodes appear in vertical layers, connected from left to right.\n"
   ]
  },
  {
   "cell_type": "code",
   "execution_count": 5,
   "metadata": {},
   "outputs": [
    {
     "name": "stdout",
     "output_type": "stream",
     "text": [
      "Predicted Rent: 4415.5\n"
     ]
    }
   ],
   "source": [
    "# Define the inputs\n",
    "size_sqft = 1250.0\n",
    "age = 15.0\n",
    "bedrooms = 2.0\n",
    "\n",
    "# The inputs flow through the edges, receiving weights\n",
    "w_size = 3*size_sqft\n",
    "w_age = -2.3*age\n",
    "w_bedrooms = 100*bedrooms\n",
    "bias = 500\n",
    "\n",
    "\n",
    "# The output node adds the weighted inputs\n",
    "weighted_sum = w_size + w_age + w_bedrooms + bias\n",
    "\n",
    "# Generate prediction\n",
    "print(\"Predicted Rent:\", weighted_sum)"
   ]
  },
  {
   "cell_type": "markdown",
   "metadata": {},
   "source": [
    "#### Activation Functions\n",
    "\n",
    "One of the ways neural networks move beyond linear regression is by incorporating non-linear activation functions. These functions allow a neural network to model nonlinear relationships within a dataset, which are very common and cannot be modeled with linear regression.\n",
    "\n",
    "##### ReLU Activation Function\n",
    "\n",
    "One of the most common activation functions used in neural networks is called ReLU.\n",
    "\n",
    "If a number is negative, ReLU returns 0. If a number is positive, ReLU returns the number with no changes.\n"
   ]
  },
  {
   "cell_type": "code",
   "execution_count": 6,
   "metadata": {},
   "outputs": [
    {
     "data": {
      "text/plain": [
       "0"
      ]
     },
     "execution_count": 6,
     "metadata": {},
     "output_type": "execute_result"
    }
   ],
   "source": [
    "# define the ReLU function\n",
    "def ReLU(x):\n",
    "    return max(0,x)\n",
    "\n",
    "# apply the ReLU function to the weighted sum\n",
    "ReLU_output = ReLU(-2 + 1 + .5)\n",
    "\n",
    "# show output\n",
    "ReLU_output"
   ]
  },
  {
   "cell_type": "markdown",
   "metadata": {},
   "source": [
    "#### Build a Sequential Neural Network\n",
    "\n",
    "Now that we know the basic structure of a neural network, let’s build one in PyTorch using PyTorch’s Sequential container.\n"
   ]
  },
  {
   "cell_type": "markdown",
   "metadata": {},
   "source": [
    "- input layer: three nodes\n",
    "- hidden layer: eight nodes, with ReLU activation\n",
    "- output layer: one node\n"
   ]
  },
  {
   "cell_type": "code",
   "execution_count": 7,
   "metadata": {},
   "outputs": [
    {
     "data": {
      "text/plain": [
       "Sequential(\n",
       "  (0): Linear(in_features=3, out_features=8, bias=True)\n",
       "  (1): ReLU()\n",
       "  (2): Linear(in_features=8, out_features=1, bias=True)\n",
       ")"
      ]
     },
     "execution_count": 7,
     "metadata": {},
     "output_type": "execute_result"
    }
   ],
   "source": [
    "# set the random seed for reproducibility\n",
    "torch.manual_seed(42)\n",
    "\n",
    "# create a model with 3 inputs, 8 neurons in the hidden layer, and 1 output\n",
    "model = nn.Sequential(\n",
    "    nn.Linear(3,8),\n",
    "    nn.ReLU(),\n",
    "    nn.Linear(8,1)\n",
    ")\n",
    "\n",
    "# show model details\n",
    "model"
   ]
  },
  {
   "cell_type": "markdown",
   "metadata": {},
   "source": [
    "##### Dataset Import\n"
   ]
  },
  {
   "cell_type": "code",
   "execution_count": 11,
   "metadata": {},
   "outputs": [
    {
     "data": {
      "text/plain": [
       "tensor([[4.8000e+02, 0.0000e+00, 1.7000e+01],\n",
       "        [2.0000e+03, 2.0000e+00, 9.6000e+01],\n",
       "        [1.0000e+03, 3.0000e+00, 1.0600e+02],\n",
       "        [9.1600e+02, 1.0000e+00, 2.9000e+01],\n",
       "        [9.7500e+02, 1.0000e+00, 3.1000e+01]])"
      ]
     },
     "execution_count": 11,
     "metadata": {},
     "output_type": "execute_result"
    }
   ],
   "source": [
    "# load pandas DataFrame\n",
    "apartments_df = pd.read_csv(\"../../assets/csv/streeteasy.csv\")\n",
    "\n",
    "# create a numpy array of the numeric columns\n",
    "apartments_numpy = apartments_df[['size_sqft', 'bedrooms', 'building_age_yrs']].values\n",
    "\n",
    "# convert to an input tensor\n",
    "X = torch.tensor(apartments_numpy,dtype=torch.float32)\n",
    "\n",
    "# preview the first five apartments\n",
    "X[:5]"
   ]
  },
  {
   "cell_type": "code",
   "execution_count": 13,
   "metadata": {},
   "outputs": [
    {
     "data": {
      "text/plain": [
       "tensor([[ -6.9229],\n",
       "        [-29.8163],\n",
       "        [-16.0748],\n",
       "        [-13.2427],\n",
       "        [-14.1096]], grad_fn=<SliceBackward0>)"
      ]
     },
     "execution_count": 13,
     "metadata": {},
     "output_type": "execute_result"
    }
   ],
   "source": [
    "# set a random seed - do not modify\n",
    "torch.manual_seed(42)\n",
    "\n",
    "# define the neural network\n",
    "model = nn.Sequential(\n",
    "    nn.Linear(3,16),\n",
    "    nn.ReLU(),\n",
    "    nn.Linear(16,8),\n",
    "    nn.ReLU(),\n",
    "    nn.Linear(8,4),\n",
    "    nn.ReLU(),\n",
    "    nn.Linear(4,1)\n",
    ")\n",
    "\n",
    "## YOUR SOLUTION HERE ##\n",
    "predicted_rent = model(X)\n",
    "\n",
    "# show output\n",
    "predicted_rent[:5]"
   ]
  },
  {
   "cell_type": "markdown",
   "metadata": {},
   "source": [
    "#### Build a Neural Network Class\n",
    "While ``nn.Sequential`` is pretty useful for creating neural networks, often AI developers need to create non-sequential types of neural networks using object-oriented programming (OOP).\n"
   ]
  },
  {
   "cell_type": "code",
   "execution_count": null,
   "metadata": {},
   "outputs": [],
   "source": []
  }
 ],
 "metadata": {
  "kernelspec": {
   "display_name": "Python 3",
   "language": "python",
   "name": "python3"
  },
  "language_info": {
   "codemirror_mode": {
    "name": "ipython",
    "version": 3
   },
   "file_extension": ".py",
   "mimetype": "text/x-python",
   "name": "python",
   "nbconvert_exporter": "python",
   "pygments_lexer": "ipython3",
   "version": "3.13.1"
  }
 },
 "nbformat": 4,
 "nbformat_minor": 2
}

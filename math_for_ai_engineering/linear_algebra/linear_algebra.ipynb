{
 "cells": [
  {
   "cell_type": "markdown",
   "metadata": {},
   "source": [
    "## Linear Algebra"
   ]
  },
  {
   "cell_type": "markdown",
   "metadata": {},
   "source": [
    "### Using NumPy Arrays\n",
    "The core of using NumPy effectively for linear algebra is using NumPy arrays. NumPy arrays are n-dimensional array data structures that can be used to represent both vectors (1-dimensional array) and matrices (2-dimensional arrays)."
   ]
  },
  {
   "cell_type": "code",
   "execution_count": 3,
   "metadata": {},
   "outputs": [
    {
     "name": "stdout",
     "output_type": "stream",
     "text": [
      "[[-2  4  5]\n",
      " [-6  1 -7]\n",
      " [ 2 -3  9]\n",
      " [ 3  8  0]]\n",
      "(4, 3)\n",
      "[ 5 -7  9  0]\n"
     ]
    }
   ],
   "source": [
    "import numpy as np\n",
    "\n",
    "# Given vectors\n",
    "vector_1 = np.array([-2,-6,2,3])\n",
    "vector_2 = np.array([4,1,-3,8])\n",
    "vector_3 = np.array([5,-7,9,0])\n",
    "\n",
    "# Matrices can be created by combining existing vectors using the np.column_stack() function\n",
    "matrix = np.column_stack((vector_1, vector_2, vector_3))\n",
    "print(matrix)\n",
    "\n",
    "# To access the shape of a matrix or vector, we call the .shape attribute of the array variable\n",
    "print(matrix.shape)\n",
    "\n",
    "second_column = matrix[:, 2]\n",
    "print(second_column)\n",
    "\n"
   ]
  },
  {
   "cell_type": "markdown",
   "metadata": {},
   "source": [
    "### Using NumPy for Linear Algebra Operations"
   ]
  },
  {
   "cell_type": "code",
   "execution_count": 5,
   "metadata": {},
   "outputs": [
    {
     "name": "stdout",
     "output_type": "stream",
     "text": [
      "4A - 2B:\n",
      " [[  6  14 -24]\n",
      " [-14  10 -18]]\n",
      "AC:\n",
      " [[ -9  -8]\n",
      " [-14 -18]]\n",
      "CA:\n",
      " [[ -2   5 -10]\n",
      " [ -2  13 -24]\n",
      " [ -2  21 -38]]\n"
     ]
    }
   ],
   "source": [
    "# Given\n",
    "# 2 x 3 matrix\n",
    "A = np.array([[2,3,-4], [-2, 1, -3]])\n",
    "# 2 x 3 matrix\n",
    "B = np.array([[1,-1,4], [3,-3,3]])\n",
    "# 3 x 2 matrix\n",
    "C = np.array([[1, 2], [3, 4], [5, 6]])\n",
    "\n",
    "# Calculate D = 4A - 2B\n",
    "D = 4*A - 2*B\n",
    "print(\"4A - 2B:\\n\",D)\n",
    "\n",
    "# Calculate E = AC\n",
    "E = A@C\n",
    "print(\"AC:\\n\",E)\n",
    "\n",
    "# Calculate F = CA\n",
    "F = C@A\n",
    "print(\"CA:\\n\",F)\n"
   ]
  },
  {
   "cell_type": "markdown",
   "metadata": {},
   "source": [
    "### Special Matrices\n",
    "In addition to having built-in support for many linear algebra-related operations, Let’s see how NumPy can create special matrices, such as the identity matrix.\n"
   ]
  },
  {
   "cell_type": "code",
   "execution_count": 7,
   "metadata": {},
   "outputs": [
    {
     "name": "stdout",
     "output_type": "stream",
     "text": [
      "[[1. 0. 0.]\n",
      " [0. 1. 0.]\n",
      " [0. 0. 1.]]\n",
      "[[1. 0. 0.]\n",
      " [0. 1. 0.]\n",
      " [0. 0. 1.]]\n",
      "[[ 1  0 -1]\n",
      " [-1  1  2]\n",
      " [ 1  0  1]]\n",
      "[[ 0.5  0.   0.5]\n",
      " [ 1.5  1.  -0.5]\n",
      " [-0.5  0.   0.5]]\n",
      "[[0. 0.]\n",
      " [0. 0.]\n",
      " [0. 0.]]\n",
      "[0. 0. 0. 0. 0.]\n",
      "[[1. 0. 0. 0.]\n",
      " [0. 1. 0. 0.]\n",
      " [0. 0. 1. 0.]\n",
      " [0. 0. 0. 1.]]\n"
     ]
    }
   ],
   "source": [
    "# Given\n",
    "A = np.array([[1,-1,1], [0,1,0], [-1,2,1]])\n",
    "B = np.array([[0.5,1.5,-0.5], [0,1,0], [0.5,-0.5,0.5]])\n",
    "\n",
    "# Find the matrix product AB and BA, and determine what that product says about A and B.\n",
    "print(np.matmul(A,B))\n",
    "print(B@A)\n",
    "\n",
    "# Find the transpose of matrix A and matrix B\n",
    "print(A.T)\n",
    "print(B.T)\n",
    "\n",
    "zero_vector = np.zeros((5))\n",
    "identity = np.eye(4)\n",
    "zero_matrix = np.zeros((3,2))\n",
    "\n",
    "print(zero_matrix)\n",
    "print(zero_vector)\n",
    "print(identity)\n"
   ]
  },
  {
   "cell_type": "markdown",
   "metadata": {},
   "source": [
    "### Additional Linear Algebra Operations\n",
    "\n",
    "Moving past special matrices, there are some more advanced linear algebra operations we can perform using NumPy. To start, we will be using the `numpy.linalg` sublibrary to perform the following operations:\n"
   ]
  },
  {
   "cell_type": "code",
   "execution_count": 8,
   "metadata": {},
   "outputs": [
    {
     "name": "stdout",
     "output_type": "stream",
     "text": [
      "(6.0, -62.0, -22.0)\n"
     ]
    }
   ],
   "source": [
    "# Represent the following system in NumPy matrix/vector form, then solve for x, y, and z\n",
    "\n",
    "# Given\n",
    "'''\n",
    "4x + z = 2\n",
    "-y + 2z - 3x = 0\n",
    ".5y - x - 1.5z = -4\n",
    "'''\n",
    "\n",
    "# Answer 1\n",
    "A = np.array([[4, 0, 1],[-3, -1, 2],[-1, 0.5, -1.5]])\n",
    "\n",
    "# Answer 2\n",
    "b = np.array([2, 0, -4])\n",
    "\n",
    "# Answer 3\n",
    "x,y,z = np.linalg.solve(A,b)\n",
    "print((x,y,z))\n"
   ]
  }
 ],
 "metadata": {
  "kernelspec": {
   "display_name": "Python 3",
   "language": "python",
   "name": "python3"
  },
  "language_info": {
   "codemirror_mode": {
    "name": "ipython",
    "version": 3
   },
   "file_extension": ".py",
   "mimetype": "text/x-python",
   "name": "python",
   "nbconvert_exporter": "python",
   "pygments_lexer": "ipython3",
   "version": "3.12.2"
  }
 },
 "nbformat": 4,
 "nbformat_minor": 2
}
